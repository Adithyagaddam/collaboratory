{
  "cells": [
    {
      "cell_type": "markdown",
      "metadata": {
        "id": "view-in-github",
        "colab_type": "text"
      },
      "source": [
        "<a href=\"https://colab.research.google.com/github/Adithyagaddam/collaboratory/blob/main/sample_code_multi_threads.ipynb\" target=\"_parent\"><img src=\"https://colab.research.google.com/assets/colab-badge.svg\" alt=\"Open In Colab\"/></a>"
      ]
    },
    {
      "cell_type": "code",
      "execution_count": null,
      "metadata": {
        "id": "VEGLcuWbeA2K",
        "outputId": "75b2bb48-a582-4802-dddb-2d3c8aab6462"
      },
      "outputs": [
        {
          "name": "stdout",
          "output_type": "stream",
          "text": [
            "Thread-1: Fri May  6 07:19:41 2022\n",
            "Thread-2: Fri May  6 07:19:43 2022\n",
            "Thread-1: Fri May  6 07:19:43 2022\n",
            "Thread-1: Fri May  6 07:19:45 2022\n",
            "Thread-2: Fri May  6 07:19:47 2022\n",
            "Thread-1: Fri May  6 07:19:47 2022\n",
            "Thread-1: Fri May  6 07:19:49 2022\n",
            "Thread-2: Fri May  6 07:19:51 2022\n",
            "Thread-2: Fri May  6 07:19:55 2022\n",
            "Thread-2: Fri May  6 07:19:59 2022\n"
          ]
        }
      ],
      "source": [
        "import _thread\n",
        "import time\n",
        "\n",
        "def print_time( threadName, delay):\n",
        "   count = 0\n",
        "   while count < 5:\n",
        "      time.sleep(delay)\n",
        "      count += 1\n",
        "      print (\"%s: %s\" % ( threadName, time.ctime(time.time()) ))\n",
        "\n",
        "try:\n",
        "   _thread.start_new_thread( print_time, (\"Thread-1\", 2, ) )\n",
        "   _thread.start_new_thread( print_time, (\"Thread-2\", 4, ) )\n",
        "except:\n",
        "   print (\"Error: unable to start thread\")\n",
        "while 1:\n",
        "   pass"
      ]
    },
    {
      "cell_type": "code",
      "execution_count": null,
      "metadata": {
        "id": "49c_VyQQeA2P",
        "outputId": "f06a0d51-a213-48b8-ea34-8c11744f9024"
      },
      "outputs": [
        {
          "name": "stdout",
          "output_type": "stream",
          "text": [
            "Starting Thread-1\n",
            "Starting Thread-2\n",
            "Thread-1: Fri May  6 07:18:56 2022\n",
            "Thread-1: Fri May  6 07:18:57 2022\n",
            "Thread-2: Fri May  6 07:18:57 2022\n",
            "Thread-1: Fri May  6 07:18:58 2022\n",
            "Thread-1: Fri May  6 07:18:59 2022\n",
            "Thread-2: Fri May  6 07:18:59 2022\n",
            "Thread-1: Fri May  6 07:19:00 2022\n",
            "Exiting Thread-1\n",
            "Thread-2: Fri May  6 07:19:01 2022\n",
            "Thread-2: Fri May  6 07:19:03 2022\n",
            "Thread-2: Fri May  6 07:19:05 2022\n",
            "Exiting Thread-2\n",
            "Exiting Main Thread\n"
          ]
        }
      ],
      "source": [
        "import threading\n",
        "import time\n",
        "exitFlag = 0\n",
        "\n",
        "class myThread (threading.Thread):\n",
        "   def __init__(self, threadID, name, counter):\n",
        "      threading.Thread.__init__(self)\n",
        "      self.threadID = threadID\n",
        "      self.name = name\n",
        "      self.counter = counter\n",
        "   def run(self):\n",
        "      print (\"Starting \" + self.name)\n",
        "      print_time(self.name, self.counter, 5)\n",
        "      print (\"Exiting \" + self.name)\n",
        "def print_time(threadName, delay, counter):\n",
        "   while counter:\n",
        "      if exitFlag:\n",
        "         threadName.exit()\n",
        "      time.sleep(delay)\n",
        "      print (\"%s: %s\" % (threadName, time.ctime(time.time())))\n",
        "      counter -= 1\n",
        "\n",
        "thread1 = myThread(1, \"Thread-1\", 1)\n",
        "thread2 = myThread(2, \"Thread-2\", 2)\n",
        "\n",
        "thread1.start()\n",
        "thread2.start()\n",
        "thread1.join()\n",
        "thread2.join()\n",
        "print (\"Exiting Main Thread\")\n"
      ]
    },
    {
      "cell_type": "code",
      "execution_count": null,
      "metadata": {
        "id": "1OjWCahIeA2Q"
      },
      "outputs": [],
      "source": [
        ""
      ]
    },
    {
      "cell_type": "code",
      "execution_count": null,
      "metadata": {
        "id": "eoSMQ_JoeA2Q",
        "outputId": "1c564221-852c-41db-ea46-41bc66dd6655"
      },
      "outputs": [
        {
          "name": "stdout",
          "output_type": "stream",
          "text": [
            "I'm a consumer I'm a consumer Thread-19\n",
            "Thread-18I'm a consumer Thread-20\n",
            "\n",
            "I'm a consumer Thread-21\n",
            "I'm a consumer Thread-22\n",
            "I'm a consumerI'm a consumer Thread-24\n",
            " I'm a consumer Thread-25\n",
            "Thread-23\n",
            "I'm a consumer Thread-26\n",
            "I'm a consumer Thread-27I'm the producer\n",
            "\n",
            "Thread-19 got 0\n",
            "Thread-20 got 1\n",
            "Thread-21 got 2\n",
            "Thread-18 got 3\n",
            "Thread-22 got 4\n"
          ]
        }
      ],
      "source": [
        "import threading\n",
        "import time\n",
        "# A list of items that are being produced.  Note: it is actually\n",
        "# more efficient to use a collections.deque() object for this.\n",
        "items = []\n",
        "# A condition variable for items\n",
        "items_cv = threading.Condition()\n",
        "def producer():\n",
        "    print (\"I'm the producer\")\n",
        "    for i in range(5):\n",
        "        with items_cv:          # Always must acquire the lock first\n",
        "            items.append(i)     # Add an item to the list\n",
        "            items_cv.notify()   # Send a notification signal\n",
        "        time.sleep(1)\n",
        "def consumer():\n",
        "    print (\"I'm a consumer\", threading.currentThread().name)\n",
        "    while True:\n",
        "        with items_cv:           # Must always acquire the lock\n",
        "            while not items:     # Check if there are any items\n",
        "                items_cv.wait()  # If not, we have to sleep\n",
        "            x = items.pop(0)     # Pop an item off\n",
        "        print (threading.currentThread().name,\"got\", x)\n",
        "        time.sleep(5)\n",
        "cons = [threading.Thread(target=consumer)\n",
        "        for i in range(10)]\n",
        "for c in cons:\n",
        "    c.setDaemon(True)\n",
        "    c.start()\n",
        "producer()"
      ]
    },
    {
      "cell_type": "code",
      "execution_count": null,
      "metadata": {
        "id": "ZJh_c9queA2R",
        "outputId": "91d80761-e09d-46d6-9bb2-9ddd57039213"
      },
      "outputs": [
        {
          "name": "stdout",
          "output_type": "stream",
          "text": [
            "Philosopher 1 finishes eating and leaves to think.Philosopher 4 finishes eating and leaves to think.Philosopher 3 is hungry.Philosopher 0 is hungry.\n",
            "\n",
            "Philosopher 2 starts eating. \n",
            "\n",
            "\n",
            "Philosopher 0 is hungry.\n",
            "Philosopher 0 starts eating. \n",
            "Philosopher 4 is hungry.Philosopher 3 is hungry.\n",
            "Philosopher 3 starts eating. \n",
            "Philosopher 2 is hungry.\n",
            "Philosopher 2 swaps forks.\n",
            "\n",
            "Philosopher 1 is hungry.\n",
            "Philosopher 2 finishes eating and leaves to think.\n",
            "Philosopher 0 finishes eating and leaves to think.\n",
            "Philosopher 1 starts eating. \n",
            "Philosopher 3 finishes eating and leaves to think.\n",
            "Philosopher 2 swaps forks.\n",
            "Philosopher 4 starts eating. \n",
            "Philosopher 0 is hungry.Philosopher 1 finishes eating and leaves to think.\n",
            "\n",
            "Philosopher 2 starts eating. \n",
            "Philosopher 3 is hungry.Philosopher 4 finishes eating and leaves to think.\n",
            "\n",
            "Philosopher 0 starts eating. \n",
            "Now we're finishing.\n",
            "Philosopher 1 is hungry.\n",
            "Philosopher 4 is hungry.Philosopher 2 finishes eating and leaves to think.\n",
            "\n",
            "Philosopher 3 starts eating. \n",
            "Philosopher 0 finishes eating and leaves to think.\n",
            "Philosopher 3 finishes eating and leaves to think.\n"
          ]
        }
      ],
      "source": [
        "import threading\n",
        "import random\n",
        "import time\n",
        "\n",
        "#inheriting threading class in Thread module\n",
        "class Philosopher(threading.Thread):\n",
        "    running = True  #used to check if everyone is finished eating\n",
        "\n",
        " #Since the subclass overrides the constructor, it must make sure to invoke the base class constructor (Thread.__init__()) before doing anything else to the thread.\n",
        "    def __init__(self, index, forkOnLeft, forkOnRight):\n",
        "        threading.Thread.__init__(self)\n",
        "        self.index = index\n",
        "        self.forkOnLeft = forkOnLeft\n",
        "        self.forkOnRight = forkOnRight\n",
        "\n",
        "    def run(self):\n",
        "        while(self.running):\n",
        "            # Philosopher is thinking (but really is sleeping).\n",
        "            time.sleep(30)\n",
        "            print ('Philosopher %s is hungry.' % self.index)\n",
        "            self.dine()\n",
        "\n",
        "    def dine(self):\n",
        "        # if both the semaphores(forks) are free, then philosopher will eat\n",
        "        fork1, fork2 = self.forkOnLeft, self.forkOnRight\n",
        "        while self.running:\n",
        "            fork1.acquire() # wait operation on left fork\n",
        "            locked = fork2.acquire(False) \n",
        "            if locked: break #if right fork is not available leave left fork\n",
        "            fork1.release()\n",
        "            print ('Philosopher %s swaps forks.' % self.index)\n",
        "            fork1, fork2 = fork2, fork1\n",
        "        else:\n",
        "            return\n",
        "        self.dining()\n",
        "        #release both the fork after dining\n",
        "        fork2.release()\n",
        "        fork1.release()\n",
        " \n",
        "    def dining(self):\t\t\t\n",
        "        print ('Philosopher %s starts eating. '% self.index)\n",
        "        time.sleep(30)\n",
        "        print ('Philosopher %s finishes eating and leaves to think.' % self.index)\n",
        "\n",
        "def main():\n",
        "    forks = [threading.Semaphore() for n in range(5)] #initialising array of semaphore i.e forks\n",
        "\n",
        "    #here (i+1)%5 is used to get right and left forks circularly between 1-5\n",
        "    philosophers= [Philosopher(i, forks[i%5], forks[(i+1)%5])\n",
        "            for i in range(5)]\n",
        "\n",
        "    Philosopher.running = True\n",
        "    for p in philosophers: p.start()\n",
        "    time.sleep(100)\n",
        "    Philosopher.running = False\n",
        "    print (\"Now we're finishing.\")\n",
        " \n",
        "\n",
        "if __name__ == \"__main__\":\n",
        "    main()\n"
      ]
    },
    {
      "cell_type": "code",
      "execution_count": null,
      "metadata": {
        "id": "fPnGPWeqeA2T"
      },
      "outputs": [],
      "source": [
        "import threading\n",
        "import random\n"
      ]
    }
  ],
  "metadata": {
    "kernelspec": {
      "display_name": "Python 3",
      "language": "python",
      "name": "python3"
    },
    "language_info": {
      "codemirror_mode": {
        "name": "ipython",
        "version": 3
      },
      "file_extension": ".py",
      "mimetype": "text/x-python",
      "name": "python",
      "nbconvert_exporter": "python",
      "pygments_lexer": "ipython3",
      "version": "3.8.5"
    },
    "colab": {
      "name": "sample code - multi-threads.ipynb",
      "provenance": [],
      "include_colab_link": true
    }
  },
  "nbformat": 4,
  "nbformat_minor": 0
}